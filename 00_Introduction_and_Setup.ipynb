{
 "cells": [
  {
   "cell_type": "markdown",
   "metadata": {},
   "source": [
    "# SAOImageDS9 Demo\n",
    "\n",
    "\n",
    "**Kenny Glotfelty**\n",
    "\n",
    "\n",
    "\n",
    "[`ds9`](http://ds9.si.edu) is the standard data visualization used by professional and amateur Astronomers world-wide.\n",
    "\n"
   ]
  },
  {
   "cell_type": "markdown",
   "metadata": {},
   "source": [
    "## Installation\n",
    "\n",
    "This notebook was created with"
   ]
  },
  {
   "cell_type": "code",
   "execution_count": 1,
   "metadata": {},
   "outputs": [
    {
     "name": "stdout",
     "output_type": "stream",
     "text": [
      "CIAO 4.11 Wednesday, December  5, 2018\n",
      "  bindir      : /soft/ciao-4.11/bin\n",
      "  CALDB       : 4.8.2\n"
     ]
    }
   ],
   "source": [
    "ciaover | sed s,$ASCDS_INSTALL,/soft/ciao-4.11,"
   ]
  },
  {
   "cell_type": "markdown",
   "metadata": {},
   "source": [
    "This notebook requires the `bash_kernel` to be installed.  With `CIAO 4.11` most users can now \n",
    "\n",
    "```bash\n",
    "pip3 install bash_kernel\n",
    "python -m bash_kernel.install --sys-prefix\n",
    "```\n"
   ]
  },
  {
   "cell_type": "markdown",
   "metadata": {},
   "source": [
    "Use the `kernelspec` command to check that it is installed properly "
   ]
  },
  {
   "cell_type": "code",
   "execution_count": 2,
   "metadata": {},
   "outputs": [
    {
     "name": "stdout",
     "output_type": "stream",
     "text": [
      "Available kernels:\n",
      "  bash       /soft/ciao-4.11/ots/share/jupyter/kernels/bash\n",
      "  python3    /soft/ciao-4.11/ots/share/jupyter/kernels/python3\n",
      "  python2    /usr/local/share/jupyter/kernels/python2\n"
     ]
    }
   ],
   "source": [
    "jupyter kernelspec list |& sed s,$ASCDS_INSTALL,/soft/ciao-4.11,"
   ]
  },
  {
   "cell_type": "code",
   "execution_count": null,
   "metadata": {},
   "outputs": [],
   "source": []
  }
 ],
 "metadata": {
  "kernelspec": {
   "display_name": "Bash",
   "language": "bash",
   "name": "bash"
  },
  "language_info": {
   "codemirror_mode": "shell",
   "file_extension": ".sh",
   "mimetype": "text/x-sh",
   "name": "bash"
  }
 },
 "nbformat": 4,
 "nbformat_minor": 2
}
