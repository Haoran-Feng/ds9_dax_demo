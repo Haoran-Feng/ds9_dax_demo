{
 "cells": [
  {
   "cell_type": "markdown",
   "metadata": {},
   "source": [
    "# SAOImageDS9 Demo for #AAS233 Chandra/CIAO workshop\n",
    "\n",
    "Kenny J. Glotfelty\n",
    "\n",
    "Center for Astrophysics | Harvard & Smithsonian\n",
    "\n",
    "## Summary\n",
    "\n",
    "This is a repository of `bash_kernel` Jupyter notebooks used to\n",
    "demo `ds9` at AAS233.\n",
    "\n",
    "## Table of Contents\n",
    "\n",
    "- [Introduction and Setup](00_Introduction_and_Setup.ipynb)\n",
    "- [Tweaking the User Interface](01_User_Interface.ipynb)\n",
    "- [Bin, Block, Zoom](02_Bin_Block_Zoom.ipynb)\n",
    "- [On the fly filtering](03_Bin_Menu_Filter.ipynb)\n",
    "- Regions\n",
    "    - [Style Decorations](04a_Region_Decorations.ipynb)\n",
    "    - [Analysis Functions](04b_Regions_Functionality.ipynb)\n",
    "    - [3D Analysis](04c_Regions_Cubes.ipynb)\n",
    "- RGB aka 'True' Color\n",
    "    - [Multiwave length](05a_RGB_energy.ipynb)\n",
    "    - [Time Slices](05b_RGB_time.ipynb)\n",
    "- [Custom Color Look Up Tables](06_Color_Look_Up_Tables.ipynb)\n",
    "- [Backup and Restore](07_Backup_Restore.ipynb)\n",
    "- [3D Rendering](08_3D_Rendering.ipynb)\n",
    "- [Contours: Copy and Paste](09_Contours.ipynb)\n",
    "- [Catalogs](10_Catalogs.ipynb)\n",
    "- [Custom Analysis Commands](11_Analysis.ipynb)\n",
    "- [DAX: `ds9` Analysis eXtensions](20_Dax.ipynb)\n",
    "    - Statistics\n",
    "    - Histograms\n",
    "    - Sherpa\n",
    "\n",
    "\n",
    "\n"
   ]
  }
 ],
 "metadata": {
  "kernelspec": {
   "display_name": "Python 3",
   "language": "python",
   "name": "python3"
  },
  "language_info": {
   "codemirror_mode": {
    "name": "ipython",
    "version": 3
   },
   "file_extension": ".py",
   "mimetype": "text/x-python",
   "name": "python",
   "nbconvert_exporter": "python",
   "pygments_lexer": "ipython3",
   "version": "3.5.4"
  }
 },
 "nbformat": 4,
 "nbformat_minor": 2
}
